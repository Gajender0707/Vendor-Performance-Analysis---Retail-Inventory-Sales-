{
 "cells": [
  {
   "cell_type": "code",
   "execution_count": null,
   "id": "7304ff26-d059-4f9d-9586-3228260665b1",
   "metadata": {},
   "outputs": [
    {
     "name": "stdout",
     "output_type": "stream",
     "text": [
      "Requirement already satisfied: sqlalchemy in /opt/anaconda3/lib/python3.12/site-packages (2.0.40)\n",
      "Requirement already satisfied: psycopg2-binary in /opt/anaconda3/lib/python3.12/site-packages (2.9.10)\n",
      "Requirement already satisfied: typing-extensions>=4.6.0 in /opt/anaconda3/lib/python3.12/site-packages (from sqlalchemy) (4.13.2)\n"
     ]
    }
   ],
   "source": [
    "!pip install sqlalchemy psycopg2-binary"
   ]
  },
  {
   "cell_type": "code",
   "execution_count": null,
   "id": "f4c17b38-ddec-4356-97df-ccba015e0331",
   "metadata": {},
   "outputs": [],
   "source": [
    "import pandas as pd\n",
    "from sqlalchemy import create_engine\n",
    "import os"
   ]
  },
  {
   "cell_type": "code",
   "execution_count": null,
   "id": "211f1be4-9610-4112-8092-1f33e8c67053",
   "metadata": {},
   "outputs": [],
   "source": [
    "os.chdir(\"..\")"
   ]
  },
  {
   "cell_type": "code",
   "execution_count": null,
   "id": "51e296a7-9170-4a7a-a1ba-0659b89cd2b9",
   "metadata": {},
   "outputs": [],
   "source": [
    "# Replace with your actual credentials\n",
    "username = 'postgres'\n",
    "password = '123456'\n",
    "host = 'localhost'         # or use IP address if remote\n",
    "port = '5432'              # default PostgreSQL port\n",
    "database = 'supply chain database'\n",
    "\n",
    "# Create connection string\n",
    "engine = create_engine(f'postgresql://{username}:{password}@{host}:{port}/{database}')"
   ]
  },
  {
   "cell_type": "code",
   "execution_count": null,
   "id": "b5484e95-3b98-452e-bfd9-07a64ee8ceb7",
   "metadata": {},
   "outputs": [],
   "source": [
    "query = '''\n",
    "SELECT * FROM vendor_invoice\n",
    "LIMIT 10;\n",
    "'''\n",
    "# Execute query and load into pandas DataFrame\n",
    "df = pd.read_sql(query, engine)\n",
    "df"
   ]
  },
  {
   "cell_type": "code",
   "execution_count": null,
   "id": "43a03835-fa9d-446b-90b7-9fc0f74627b1",
   "metadata": {},
   "outputs": [],
   "source": [
    "query = '''\n",
    "SELECT * FROM purchases\n",
    "LIMIT 10;\n",
    "'''\n",
    "# Execute query and load into pandas DataFrame\n",
    "df = pd.read_sql(query, engine)\n",
    "df"
   ]
  },
  {
   "cell_type": "code",
   "execution_count": null,
   "id": "f02644bd-8fe3-4dcc-96cf-d38a3e414c31",
   "metadata": {},
   "outputs": [],
   "source": []
  },
  {
   "cell_type": "code",
   "execution_count": null,
   "id": "3865a562-9eff-4626-ab6c-b41958de518f",
   "metadata": {},
   "outputs": [],
   "source": []
  },
  {
   "cell_type": "code",
   "execution_count": null,
   "id": "679c98f1-e561-48a5-aa49-9e39275d56cb",
   "metadata": {},
   "outputs": [],
   "source": []
  }
 ],
 "metadata": {
  "kernelspec": {
   "display_name": "Python 3 (ipykernel)",
   "language": "python",
   "name": "python3"
  },
  "language_info": {
   "codemirror_mode": {
    "name": "ipython",
    "version": 3
   },
   "file_extension": ".py",
   "mimetype": "text/x-python",
   "name": "python",
   "nbconvert_exporter": "python",
   "pygments_lexer": "ipython3",
   "version": "3.12.4"
  }
 },
 "nbformat": 4,
 "nbformat_minor": 5
}
